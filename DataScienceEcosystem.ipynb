{
 "cells": [
  {
   "cell_type": "markdown",
   "id": "1e7062bb-7236-43c5-a8a0-8388241ae3db",
   "metadata": {},
   "source": [
    "# Data Science Tools and Ecosystem"
   ]
  },
  {
   "cell_type": "markdown",
   "id": "7f9232fb-bb89-4b5e-9fa4-c22b66b8f0bd",
   "metadata": {},
   "source": [
    "**In this notebook, Data Science Tools and Ecosystem are summarized.**"
   ]
  },
  {
   "cell_type": "markdown",
   "id": "f3c24edf-cb65-40fc-b9c7-526ac5072dea",
   "metadata": {},
   "source": [
    "*Some of the popular languages that Data Scientists use are:*\n",
    "1. Python\n",
    "2. R\n",
    "3. SQL"
   ]
  },
  {
   "cell_type": "markdown",
   "id": "a00078a8-bf29-4726-8da1-54fa972b44f7",
   "metadata": {},
   "source": [
    "*Some of the commonly used libraries used by Data Scientists include:*\n",
    "1. Pandas\n",
    "2. Numpy\n",
    "3. Keras"
   ]
  },
  {
   "cell_type": "markdown",
   "id": "8fdb0236-1e0a-4840-b1cf-745d46d2ae7b",
   "metadata": {},
   "source": [
    "|Data Science Tools|\n",
    "|------------------|\n",
    "|Jupyter Notebooks|\n",
    "|VS Code|\n",
    "|RStudio|"
   ]
  },
  {
   "cell_type": "markdown",
   "id": "46583401-7ad2-452c-a3ab-4f29e24be9c4",
   "metadata": {},
   "source": [
    "### Below are a few examples of evaluating arithmetic expressions in Python"
   ]
  },
  {
   "cell_type": "markdown",
   "id": "12e2d86d-83b3-4b87-b9dd-637ad32638af",
   "metadata": {},
   "source": [
    "*This a simple arithmetic expression to mutiply then add integers:*"
   ]
  },
  {
   "cell_type": "code",
   "execution_count": 1,
   "id": "c037add5-18b4-4603-89da-9a9d23cdf2f8",
   "metadata": {},
   "outputs": [
    {
     "data": {
      "text/plain": [
       "17"
      ]
     },
     "execution_count": 1,
     "metadata": {},
     "output_type": "execute_result"
    }
   ],
   "source": [
    "(3*4)+5"
   ]
  },
  {
   "cell_type": "markdown",
   "id": "bf203541-2de6-49ea-81fa-391bfed2c7ec",
   "metadata": {},
   "source": [
    "*This will convert 200 minutes to hours by diving by 60:*"
   ]
  },
  {
   "cell_type": "code",
   "execution_count": 2,
   "id": "7b73fb1f-9ff4-49a1-9fa9-d54cfbfe5ba6",
   "metadata": {},
   "outputs": [
    {
     "name": "stdout",
     "output_type": "stream",
     "text": [
      "3.3333333333333335\n"
     ]
    }
   ],
   "source": [
    "minutes = 200\n",
    "hours = minutes / 60\n",
    "print(hours)"
   ]
  },
  {
   "cell_type": "markdown",
   "id": "5d2811b4-b135-4901-85b7-e4f767525531",
   "metadata": {},
   "source": [
    "**Objectives:**\n",
    "- List popular languages for Data Science\n",
    "- List commonly used data science libraries\n",
    "- List Data Science tools"
   ]
  },
  {
   "cell_type": "markdown",
   "id": "2ca5312e-3deb-4c7e-84c9-80a21a441bf4",
   "metadata": {},
   "source": [
    "## Author\n",
    "Min Yu"
   ]
  },
  {
   "cell_type": "code",
   "execution_count": null,
   "id": "88ff829f-629b-4d86-aa3e-28e1dc805889",
   "metadata": {},
   "outputs": [],
   "source": []
  }
 ],
 "metadata": {
  "kernelspec": {
   "display_name": "Python 3 (ipykernel)",
   "language": "python",
   "name": "python3"
  },
  "language_info": {
   "codemirror_mode": {
    "name": "ipython",
    "version": 3
   },
   "file_extension": ".py",
   "mimetype": "text/x-python",
   "name": "python",
   "nbconvert_exporter": "python",
   "pygments_lexer": "ipython3",
   "version": "3.11.7"
  }
 },
 "nbformat": 4,
 "nbformat_minor": 5
}
